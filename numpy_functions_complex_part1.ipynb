{
  "cells": [
    {
      "cell_type": "code",
      "execution_count": null,
      "id": "6171d20e",
      "metadata": {
        "colab": {
          "base_uri": "https://localhost:8080/"
        },
        "id": "6171d20e",
        "outputId": "4ee3cb2b-2d2f-4458-9a9b-fbd5e3ca478d"
      },
      "outputs": [
        {
          "output_type": "stream",
          "name": "stdout",
          "text": [
            "[ 3  6 11]\n"
          ]
        }
      ],
      "source": [
        "import numpy as np\n",
        "# np.polyval()\n",
        "# Description: Evaluates a polynomial at specific values.\n",
        "# Example:\n",
        "p = np.poly1d([1, 2, 3])\n",
        "val = np.polyval(p, np.array([0, 1, 2]))\n",
        "print(val)\n"
      ]
    },
    {
      "cell_type": "code",
      "execution_count": null,
      "id": "b958c670",
      "metadata": {
        "colab": {
          "base_uri": "https://localhost:8080/"
        },
        "id": "b958c670",
        "outputId": "1f32f32e-87a4-475c-91c9-533ac01a5eb4"
      },
      "outputs": [
        {
          "output_type": "stream",
          "name": "stdout",
          "text": [
            " \n",
            "2 x + 2\n"
          ]
        }
      ],
      "source": [
        "# np.polyder()\n",
        "# Description: Computes the derivative of a polynomial.\n",
        "# Example:\n",
        "p = np.poly1d([1, 2, 3])\n",
        "derivative = np.polyder(p)\n",
        "print(derivative)\n"
      ]
    },
    {
      "cell_type": "code",
      "execution_count": null,
      "id": "31ce4fba",
      "metadata": {
        "colab": {
          "base_uri": "https://localhost:8080/"
        },
        "id": "31ce4fba",
        "outputId": "c5664cd5-42df-4e38-b8c7-a48d467dacda"
      },
      "outputs": [
        {
          "output_type": "stream",
          "name": "stdout",
          "text": [
            "[-1.  1.]\n"
          ]
        }
      ],
      "source": [
        "# np.roots()\n",
        "# Description: Finds the roots of a polynomial.\n",
        "# Example:\n",
        "p = np.poly1d([1, 0, -1])\n",
        "roots = np.roots(p)\n",
        "print(roots)\n"
      ]
    },
    {
      "cell_type": "code",
      "execution_count": null,
      "id": "cd250c47",
      "metadata": {
        "colab": {
          "base_uri": "https://localhost:8080/"
        },
        "id": "cd250c47",
        "outputId": "eca18933-f057-4e5c-eaa6-964a57768357"
      },
      "outputs": [
        {
          "output_type": "stream",
          "name": "stdout",
          "text": [
            "[ 1. -6. 11. -6.]\n"
          ]
        }
      ],
      "source": [
        "# np.poly()\n",
        "# Description: Finds the coefficients of a polynomial with given roots.\n",
        "# Example:\n",
        "roots = [1, 2, 3]\n",
        "coefficients = np.poly(roots)\n",
        "print(coefficients)\n"
      ]
    },
    {
      "cell_type": "code",
      "execution_count": null,
      "id": "ec77c30d",
      "metadata": {
        "colab": {
          "base_uri": "https://localhost:8080/"
        },
        "id": "ec77c30d",
        "outputId": "1efb45cc-8041-4a57-b537-daf8a209a0b3"
      },
      "outputs": [
        {
          "output_type": "stream",
          "name": "stdout",
          "text": [
            "[[  1   1   1   1]\n",
            " [  8   4   2   1]\n",
            " [ 27   9   3   1]\n",
            " [125  25   5   1]]\n"
          ]
        }
      ],
      "source": [
        "# np.vander()\n",
        "# Description: Generates a Vandermonde matrix.\n",
        "# Example:\n",
        "x = np.array([1, 2, 3, 5])\n",
        "V = np.vander(x)\n",
        "print(V)\n"
      ]
    },
    {
      "cell_type": "code",
      "execution_count": null,
      "id": "cbb6b8ad",
      "metadata": {
        "colab": {
          "base_uri": "https://localhost:8080/"
        },
        "id": "cbb6b8ad",
        "outputId": "57acbce6-3617-43fe-af45-70712ac811b5"
      },
      "outputs": [
        {
          "output_type": "stream",
          "name": "stdout",
          "text": [
            "8.0\n"
          ]
        }
      ],
      "source": [
        "# np.trapz()\n",
        "# Description: Performs trapezoidal integration.\n",
        "# Example:\n",
        "y = np.array([1, 2, 3])\n",
        "x = np.array([4, 6, 8])\n",
        "area = np.trapz(y, x)\n",
        "print(area)\n"
      ]
    },
    {
      "cell_type": "code",
      "execution_count": null,
      "id": "6e63d3a8",
      "metadata": {
        "colab": {
          "base_uri": "https://localhost:8080/"
        },
        "id": "6e63d3a8",
        "outputId": "bc331789-bac5-4d7f-ebb1-6c70e948f8e2"
      },
      "outputs": [
        {
          "output_type": "stream",
          "name": "stdout",
          "text": [
            "[ 0.   2.5  5.   7.5 10. ]\n"
          ]
        }
      ],
      "source": [
        "# np.linspace()\n",
        "# Description: Returns evenly spaced numbers over a specified interval.\n",
        "# Example:\n",
        "arr = np.linspace(0, 10, 5)\n",
        "print(arr)\n"
      ]
    },
    {
      "cell_type": "code",
      "execution_count": null,
      "id": "60885580",
      "metadata": {
        "colab": {
          "base_uri": "https://localhost:8080/"
        },
        "id": "60885580",
        "outputId": "0401c965-f634-462c-c9bd-595e0abcff35"
      },
      "outputs": [
        {
          "output_type": "stream",
          "name": "stdout",
          "text": [
            "[  1.           4.64158883  21.5443469  100.        ]\n"
          ]
        }
      ],
      "source": [
        "# np.logspace()\n",
        "# Description: Returns numbers spaced evenly on a log scale.\n",
        "# Example:\n",
        "arr = np.logspace(0, 2, 4)\n",
        "print(arr)\n"
      ]
    },
    {
      "cell_type": "code",
      "execution_count": null,
      "id": "efe033f0",
      "metadata": {
        "colab": {
          "base_uri": "https://localhost:8080/"
        },
        "id": "efe033f0",
        "outputId": "51897b7a-d327-49c2-c6dd-46d708ca38c3"
      },
      "outputs": [
        {
          "output_type": "stream",
          "name": "stdout",
          "text": [
            "[   1.   10.  100. 1000.]\n"
          ]
        }
      ],
      "source": [
        "# np.geomspace()\n",
        "# Description: Returns numbers spaced evenly on a geometric progression.\n",
        "# Example:\n",
        "arr = np.geomspace(1, 1000, 4)\n",
        "print(arr)\n"
      ]
    },
    {
      "cell_type": "code",
      "execution_count": null,
      "id": "1c55efab",
      "metadata": {
        "colab": {
          "base_uri": "https://localhost:8080/"
        },
        "id": "1c55efab",
        "outputId": "1723a38c-3734-467e-c203-f8f366ef7b42"
      },
      "outputs": [
        {
          "output_type": "stream",
          "name": "stdout",
          "text": [
            "[10.+0.j -2.+2.j -2.+0.j -2.-2.j]\n"
          ]
        }
      ],
      "source": [
        "# np.fft.fft()\n",
        "# Description: Computes the one-dimensional discrete Fourier Transform.\n",
        "# Example:\n",
        "arr = np.fft.fft(np.array([1, 2, 3, 4]))\n",
        "print(arr)\n"
      ]
    },
    {
      "cell_type": "code",
      "execution_count": null,
      "id": "67129b5f",
      "metadata": {
        "colab": {
          "base_uri": "https://localhost:8080/"
        },
        "id": "67129b5f",
        "outputId": "326681fb-6035-4bb0-9ca5-635aa8190b52"
      },
      "outputs": [
        {
          "output_type": "stream",
          "name": "stdout",
          "text": [
            "[ 2.5+0.j  -0.5-0.5j -0.5+0.j  -0.5+0.5j]\n"
          ]
        }
      ],
      "source": [
        "# np.fft.ifft()\n",
        "# Description: Computes the one-dimensional inverse discrete Fourier Transform.\n",
        "# Example:\n",
        "arr = np.fft.ifft(np.array([1, 2, 3, 4]))\n",
        "print(arr)\n"
      ]
    },
    {
      "cell_type": "code",
      "execution_count": null,
      "id": "fce01528",
      "metadata": {
        "colab": {
          "base_uri": "https://localhost:8080/"
        },
        "id": "fce01528",
        "outputId": "27deff38-2845-43bf-9545-caa37253da10"
      },
      "outputs": [
        {
          "output_type": "stream",
          "name": "stdout",
          "text": [
            "[2 3 0 1]\n"
          ]
        }
      ],
      "source": [
        "# np.fft.fftshift()\n",
        "# Description: Shifts the zero-frequency component to the center of the spectrum.\n",
        "# Example:\n",
        "arr = np.fft.fftshift(np.array([0, 1, 2, 3]))\n",
        "print(arr)\n"
      ]
    },
    {
      "cell_type": "code",
      "execution_count": null,
      "id": "5cfb869c",
      "metadata": {
        "colab": {
          "base_uri": "https://localhost:8080/"
        },
        "id": "5cfb869c",
        "outputId": "8f8adf58-6dae-430d-ac78-27e6400aa155"
      },
      "outputs": [
        {
          "output_type": "stream",
          "name": "stdout",
          "text": [
            "[2 3 0 1]\n"
          ]
        }
      ],
      "source": [
        "# np.fft.ifftshift()\n",
        "# Description: Shifts the zero-frequency component back to the beginning of the spectrum.\n",
        "# Example:\n",
        "arr = np.fft.ifftshift(np.array([0, 1, 2, 3]))\n",
        "print(arr)\n"
      ]
    },
    {
      "cell_type": "code",
      "execution_count": null,
      "id": "3ac7df97",
      "metadata": {
        "colab": {
          "base_uri": "https://localhost:8080/"
        },
        "id": "3ac7df97",
        "outputId": "abbb8da3-83c5-43bf-e2df-1599c0378a92"
      },
      "outputs": [
        {
          "output_type": "stream",
          "name": "stdout",
          "text": [
            "[ 0.    1.25  2.5   3.75 -5.   -3.75 -2.5  -1.25]\n"
          ]
        }
      ],
      "source": [
        "# np.fft.fftfreq()\n",
        "# Description: Returns the Discrete Fourier Transform sample frequencies.\n",
        "# Example:\n",
        "freqs = np.fft.fftfreq(8, d=0.1)\n",
        "print(freqs)\n"
      ]
    },
    {
      "cell_type": "code",
      "execution_count": null,
      "id": "5808b0a0",
      "metadata": {
        "colab": {
          "base_uri": "https://localhost:8080/"
        },
        "id": "5808b0a0",
        "outputId": "4f9f155d-05c1-4e03-cd8f-d6e529d46477"
      },
      "outputs": [
        {
          "output_type": "stream",
          "name": "stdout",
          "text": [
            "[10.+0.j -2.+2.j -2.+0.j]\n"
          ]
        }
      ],
      "source": [
        "# np.fft.rfft()\n",
        "# Description: Computes the one-dimensional discrete Fourier Transform for real input.\n",
        "# Example:\n",
        "arr = np.fft.rfft(np.array([1, 2, 3, 4]))\n",
        "print(arr)\n"
      ]
    },
    {
      "cell_type": "code",
      "execution_count": null,
      "id": "9bda16e5",
      "metadata": {
        "colab": {
          "base_uri": "https://localhost:8080/"
        },
        "id": "9bda16e5",
        "outputId": "6c9e7d5f-33dd-45dc-bc5f-e3b56fbf9a43"
      },
      "outputs": [
        {
          "output_type": "stream",
          "name": "stdout",
          "text": [
            "[ 2.5        -0.66666667  0.         -0.16666667  0.         -0.66666667]\n"
          ]
        }
      ],
      "source": [
        "# np.fft.irfft()\n",
        "# Description: Computes the inverse of the one-dimensional discrete Fourier Transform for real input.\n",
        "# Example:\n",
        "arr = np.fft.irfft(np.array([1, 2, 3, 4]))\n",
        "print(arr)\n"
      ]
    },
    {
      "cell_type": "code",
      "execution_count": null,
      "id": "152aaa59",
      "metadata": {
        "colab": {
          "base_uri": "https://localhost:8080/"
        },
        "id": "152aaa59",
        "outputId": "357af4bf-e04c-469f-a3dd-2512311b4425"
      },
      "outputs": [
        {
          "output_type": "stream",
          "name": "stdout",
          "text": [
            "[0.  1.  2.5 4.  1.5]\n"
          ]
        }
      ],
      "source": [
        "# np.convolve()\n",
        "# Description: Returns the discrete, linear convolution of two one-dimensional sequences.\n",
        "# Example:\n",
        "a = np.array([1, 2, 3])\n",
        "b = np.array([0, 1, 0.5])\n",
        "convolution = np.convolve(a, b)\n",
        "print(convolution)\n"
      ]
    },
    {
      "cell_type": "code",
      "execution_count": null,
      "id": "22acdd4d",
      "metadata": {
        "colab": {
          "base_uri": "https://localhost:8080/"
        },
        "id": "22acdd4d",
        "outputId": "67d9d4b6-a3d9-4cc5-ed81-7c376f95dc9d"
      },
      "outputs": [
        {
          "output_type": "stream",
          "name": "stdout",
          "text": [
            "[0.5 2.  3.5 3.  0. ]\n"
          ]
        }
      ],
      "source": [
        "# np.correlate()\n",
        "# Description: Cross-correlates two one-dimensional sequences.\n",
        "# Example:\n",
        "a = np.array([1, 2, 3])\n",
        "b = np.array([0, 1, 0.5])\n",
        "correlation = np.correlate(a, b, \"full\")\n",
        "print(correlation)\n"
      ]
    },
    {
      "cell_type": "code",
      "execution_count": null,
      "id": "c98d160b",
      "metadata": {
        "colab": {
          "base_uri": "https://localhost:8080/"
        },
        "id": "c98d160b",
        "outputId": "421d36d9-2c82-4c61-a149-09ca36fe60b5"
      },
      "outputs": [
        {
          "output_type": "stream",
          "name": "stdout",
          "text": [
            "[[ 1. -1.]\n",
            " [-1.  1.]]\n"
          ]
        }
      ],
      "source": [
        "# np.cov()\n",
        "# Description: Estimates a covariance matrix, given data and weights.\n",
        "# Example:\n",
        "x = np.array([0, 1, 2])\n",
        "y = np.array([2, 1, 0])\n",
        "cov_matrix = np.cov(x, y)\n",
        "print(cov_matrix)\n"
      ]
    },
    {
      "cell_type": "code",
      "execution_count": null,
      "id": "1a277e70",
      "metadata": {
        "colab": {
          "base_uri": "https://localhost:8080/"
        },
        "id": "1a277e70",
        "outputId": "a1428d56-983c-4862-c510-1736cdf4ecd2"
      },
      "outputs": [
        {
          "output_type": "stream",
          "name": "stdout",
          "text": [
            "[[ 1. -1.]\n",
            " [-1.  1.]]\n"
          ]
        }
      ],
      "source": [
        "# np.corrcoef()\n",
        "# Description: Returns Pearson product-moment correlation coefficients.\n",
        "# Example:\n",
        "x = np.array([0, 1, 2])\n",
        "y = np.array([2, 1, 0])\n",
        "corr_coef = np.corrcoef(x, y)\n",
        "print(corr_coef)\n"
      ]
    },
    {
      "cell_type": "code",
      "execution_count": null,
      "id": "df4b7011",
      "metadata": {
        "colab": {
          "base_uri": "https://localhost:8080/"
        },
        "id": "df4b7011",
        "outputId": "70f78499-fc6a-4785-d85f-bfb5cbe76cf7"
      },
      "outputs": [
        {
          "output_type": "stream",
          "name": "stdout",
          "text": [
            "[ 0.78539816 -0.78539816]\n"
          ]
        }
      ],
      "source": [
        "# np.angle()\n",
        "# Description: Returns the angle of the complex argument.\n",
        "# Example:\n",
        "z = np.array([1+1j, 1-1j])\n",
        "angles = np.angle(z)\n",
        "print(angles)\n"
      ]
    },
    {
      "cell_type": "code",
      "execution_count": null,
      "id": "1750efcc",
      "metadata": {
        "colab": {
          "base_uri": "https://localhost:8080/"
        },
        "id": "1750efcc",
        "outputId": "f613a79d-9ba8-46ad-f40b-f6f3a40b77eb"
      },
      "outputs": [
        {
          "output_type": "stream",
          "name": "stdout",
          "text": [
            "[1. 1.]\n"
          ]
        }
      ],
      "source": [
        "# np.real()\n",
        "# Description: Returns the real part of the complex argument.\n",
        "# Example:\n",
        "z = np.array([1+1j, 1-1j])\n",
        "real_part = np.real(z)\n",
        "print(real_part)\n"
      ]
    },
    {
      "cell_type": "code",
      "execution_count": null,
      "id": "a48d36a4",
      "metadata": {
        "colab": {
          "base_uri": "https://localhost:8080/"
        },
        "id": "a48d36a4",
        "outputId": "06838c91-2780-4e82-a2d8-21fc0f8d33b2"
      },
      "outputs": [
        {
          "output_type": "stream",
          "name": "stdout",
          "text": [
            "[ 1. -1.]\n"
          ]
        }
      ],
      "source": [
        "# np.imag()\n",
        "# Description: Returns the imaginary part of the complex argument.\n",
        "# Example:\n",
        "z = np.array([1+1j, 1-1j])\n",
        "imaginary_part = np.imag(z)\n",
        "print(imaginary_part)\n"
      ]
    },
    {
      "cell_type": "code",
      "execution_count": null,
      "id": "6eb2a7a2",
      "metadata": {
        "colab": {
          "base_uri": "https://localhost:8080/"
        },
        "id": "6eb2a7a2",
        "outputId": "135a8e91-2c3d-4571-b54e-3c92bcb07748"
      },
      "outputs": [
        {
          "output_type": "stream",
          "name": "stdout",
          "text": [
            "[ 0.          2.3012989  11.54873936]\n"
          ]
        }
      ],
      "source": [
        "# np.sinh()\n",
        "# Description: Calculates the hyperbolic sine element-wise.\n",
        "# Example:\n",
        "arr = np.sinh(np.array([0, np.pi/2, np.pi]))\n",
        "print(arr)\n"
      ]
    },
    {
      "cell_type": "code",
      "execution_count": null,
      "id": "91d2b435",
      "metadata": {
        "colab": {
          "base_uri": "https://localhost:8080/"
        },
        "id": "91d2b435",
        "outputId": "018c16f8-8549-4c91-f8cc-4027cc676a19"
      },
      "outputs": [
        {
          "output_type": "stream",
          "name": "stdout",
          "text": [
            "[ 1.          2.50917848 11.59195328]\n"
          ]
        }
      ],
      "source": [
        "# np.cosh()\n",
        "# Description: Calculates the hyperbolic cosine element-wise.\n",
        "# Example:\n",
        "arr = np.cosh(np.array([0, np.pi/2, np.pi]))\n",
        "print(arr)\n"
      ]
    }
  ],
  "metadata": {
    "colab": {
      "provenance": []
    },
    "language_info": {
      "name": "python"
    },
    "kernelspec": {
      "name": "python3",
      "display_name": "Python 3"
    }
  },
  "nbformat": 4,
  "nbformat_minor": 5
}