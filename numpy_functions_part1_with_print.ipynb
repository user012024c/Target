{
  "cells": [
    {
      "cell_type": "code",
      "source": [
        "pip install numpy"
      ],
      "metadata": {
        "colab": {
          "base_uri": "https://localhost:8080/"
        },
        "id": "ttuY8Ov5wgN6",
        "outputId": "2e118b23-8fba-4da7-b3c3-1f5a5eaa3064"
      },
      "id": "ttuY8Ov5wgN6",
      "execution_count": null,
      "outputs": [
        {
          "output_type": "stream",
          "name": "stdout",
          "text": [
            "Requirement already satisfied: numpy in /usr/local/lib/python3.10/dist-packages (1.26.4)\n"
          ]
        }
      ]
    },
    {
      "cell_type": "code",
      "execution_count": null,
      "id": "bf427cfe",
      "metadata": {
        "colab": {
          "base_uri": "https://localhost:8080/"
        },
        "id": "bf427cfe",
        "outputId": "06b22023-9ef0-4d57-e542-998c44ae7d55"
      },
      "outputs": [
        {
          "output_type": "stream",
          "name": "stdout",
          "text": [
            "[1 2 3]\n"
          ]
        }
      ],
      "source": [
        "import numpy as np\n",
        "# np.array()\n",
        "# Description: Creates an array.\n",
        "# Example:\n",
        "arr = np.array([1, 2, 3])\n",
        "print(arr)\n"
      ]
    },
    {
      "cell_type": "code",
      "execution_count": null,
      "id": "598c504f",
      "metadata": {
        "colab": {
          "base_uri": "https://localhost:8080/"
        },
        "id": "598c504f",
        "outputId": "050af794-5aea-49da-db46-40d2da6b4634"
      },
      "outputs": [
        {
          "output_type": "stream",
          "name": "stdout",
          "text": [
            "[0 0]\n"
          ]
        }
      ],
      "source": [
        "  # np.zeros()\n",
        "# Description: Creates an array filled with zeros.\n",
        "# Example:\n",
        "arr = np.zeros(2,dtype = int )\n",
        "print(arr)\n"
      ]
    },
    {
      "cell_type": "code",
      "execution_count": null,
      "id": "06cc0763",
      "metadata": {
        "colab": {
          "base_uri": "https://localhost:8080/"
        },
        "id": "06cc0763",
        "outputId": "2fd45ff4-055b-4ec0-aec6-a05515379574"
      },
      "outputs": [
        {
          "output_type": "stream",
          "name": "stdout",
          "text": [
            "[1. 1.]\n"
          ]
        }
      ],
      "source": [
        "# np.ones()\n",
        "# Description: Creates an array filled with ones.\n",
        "# Example:\n",
        "arr = np.ones(2 )\n",
        "print(arr)\n"
      ]
    },
    {
      "cell_type": "code",
      "execution_count": null,
      "id": "9170fa55",
      "metadata": {
        "colab": {
          "base_uri": "https://localhost:8080/"
        },
        "id": "9170fa55",
        "outputId": "b8919d9e-b133-4394-ab6c-4ed0f6f1f17d"
      },
      "outputs": [
        {
          "output_type": "stream",
          "name": "stdout",
          "text": [
            "[1. 1. 1.]\n"
          ]
        }
      ],
      "source": [
        "# np.empty()\n",
        "# Description: Creates an uninitialized array.\n",
        "# Example:\n",
        "import numpy as np\n",
        "np.empty([1, 1])\n",
        "arr = np.empty((3))\n",
        "print(arr)\n"
      ]
    },
    {
      "cell_type": "code",
      "execution_count": null,
      "id": "d7dd8858",
      "metadata": {
        "colab": {
          "base_uri": "https://localhost:8080/"
        },
        "id": "d7dd8858",
        "outputId": "05a01554-ae5d-4123-d433-4027aa669690"
      },
      "outputs": [
        {
          "output_type": "stream",
          "name": "stdout",
          "text": [
            "[0 3 6 9]\n"
          ]
        }
      ],
      "source": [
        " # np.arange()\n",
        "# Description: Creates an array with a range of values.\n",
        "# Example:\n",
        "arr = np.arange(0, 10)\n",
        "print(arr)\n"
      ]
    },
    {
      "cell_type": "code",
      "execution_count": null,
      "id": "eecf49a2",
      "metadata": {
        "colab": {
          "base_uri": "https://localhost:8080/"
        },
        "id": "eecf49a2",
        "outputId": "362f91d3-4f2a-421e-d62c-eb8ffa27ebd0"
      },
      "outputs": [
        {
          "output_type": "stream",
          "name": "stdout",
          "text": [
            "[ 2.          2.88888889  3.77777778  4.66666667  5.55555556  6.44444444\n",
            "  7.33333333  8.22222222  9.11111111 10.        ]\n"
          ]
        }
      ],
      "source": [
        "import numpy as np\n",
        "# np.linspace()\n",
        "# Description: Creates an array with evenly spaced values.\n",
        "# Example:\n",
        "arr = np.linspace(2, 10, 10)\n",
        "print(arr)\n"
      ]
    },
    {
      "cell_type": "code",
      "execution_count": null,
      "id": "7cb60ad8",
      "metadata": {
        "colab": {
          "base_uri": "https://localhost:8080/"
        },
        "id": "7cb60ad8",
        "outputId": "c2077dab-962d-4339-80d2-171b9cc8cd69"
      },
      "outputs": [
        {
          "output_type": "stream",
          "name": "stdout",
          "text": [
            "[[1. 0. 0.]\n",
            " [0. 1. 0.]\n",
            " [0. 0. 1.]]\n"
          ]
        }
      ],
      "source": [
        "# np.eye()\n",
        "# Description: Creates an identity matrix.\n",
        "# Example:\n",
        "arr = np.eye(3)\n",
        "print(arr)\n"
      ]
    },
    {
      "cell_type": "code",
      "execution_count": null,
      "id": "3509fc6b",
      "metadata": {
        "colab": {
          "base_uri": "https://localhost:8080/"
        },
        "id": "3509fc6b",
        "outputId": "fa9b2d16-11ce-4241-f971-d223def5c21c"
      },
      "outputs": [
        {
          "output_type": "stream",
          "name": "stdout",
          "text": [
            "[[0.03774556 0.52912706 0.82145114]\n",
            " [0.23281794 0.9773571  0.13164252]\n",
            " [0.89592382 0.57079731 0.92861527]]\n"
          ]
        }
      ],
      "source": [
        "# np.random.rand()\n",
        "# Description: Generates an array with random values between 0 and 1.\n",
        "# Example:\n",
        "arr = np.random.rand(3, 3)\n",
        "print(arr)\n"
      ]
    },
    {
      "cell_type": "code",
      "execution_count": null,
      "id": "45f727b6",
      "metadata": {
        "colab": {
          "base_uri": "https://localhost:8080/"
        },
        "id": "45f727b6",
        "outputId": "1a1726de-5440-40e4-988d-2429832d4d93"
      },
      "outputs": [
        {
          "output_type": "stream",
          "name": "stdout",
          "text": [
            "[[ 0.28221832 -0.83786529  0.72865629]\n",
            " [ 0.33771636  1.91729478  1.4167984 ]\n",
            " [-0.15842943 -3.20345319 -0.52554922]]\n"
          ]
        }
      ],
      "source": [
        "# np.random.randn()\n",
        "# Description: Generates an array with random values from a normal distribution.\n",
        "# Example:\n",
        "arr = np.random.randn(3, 3)\n",
        "print(arr)\n"
      ]
    },
    {
      "cell_type": "code",
      "execution_count": null,
      "id": "9d0eb013",
      "metadata": {
        "colab": {
          "base_uri": "https://localhost:8080/"
        },
        "id": "9d0eb013",
        "outputId": "e5212e11-34f2-47a9-b238-aa16f0669c75"
      },
      "outputs": [
        {
          "output_type": "stream",
          "name": "stdout",
          "text": [
            "[[32 34 69]\n",
            " [28 10 95]\n",
            " [49 88 29]]\n"
          ]
        }
      ],
      "source": [
        "# np.random.randint()\n",
        "# Description: Generates random integers within a specified range.\n",
        "# Example:\n",
        "arr = np.random.randint(0, 100, (3, 3))\n",
        "print(arr)\n"
      ]
    },
    {
      "cell_type": "code",
      "execution_count": null,
      "id": "012f850b",
      "metadata": {
        "colab": {
          "base_uri": "https://localhost:8080/"
        },
        "id": "012f850b",
        "outputId": "09096773-eda2-4fbf-9654-967acc9b3ca1"
      },
      "outputs": [
        {
          "output_type": "stream",
          "name": "stdout",
          "text": [
            "[[1 2]\n",
            " [3 4]]\n"
          ]
        }
      ],
      "source": [
        "# np.reshape()\n",
        "# Description: Reshapes an array.\n",
        "# Example:\n",
        "arr = np.array([1, 2, 3, 4]).reshape(2, 2)\n",
        "print(arr)\n"
      ]
    },
    {
      "cell_type": "code",
      "execution_count": null,
      "id": "20a7d712",
      "metadata": {
        "colab": {
          "base_uri": "https://localhost:8080/"
        },
        "id": "20a7d712",
        "outputId": "bb093dbe-9e30-470e-a6fe-74085422ea43"
      },
      "outputs": [
        {
          "output_type": "stream",
          "name": "stdout",
          "text": [
            "[[1 3]\n",
            " [2 4]]\n"
          ]
        }
      ],
      "source": [
        "# np.transpose()\n",
        "# Description: Transposes an array.\n",
        "# Example:\n",
        "arr = np.array([[1, 2], [3, 4]]).transpose()\n",
        "print(arr)\n"
      ]
    },
    {
      "cell_type": "code",
      "execution_count": null,
      "id": "126a33b6",
      "metadata": {
        "colab": {
          "base_uri": "https://localhost:8080/"
        },
        "id": "126a33b6",
        "outputId": "89180027-b4e8-4c73-921e-af8565b3d9a5"
      },
      "outputs": [
        {
          "output_type": "stream",
          "name": "stdout",
          "text": [
            "[1 2 3 4]\n"
          ]
        }
      ],
      "source": [
        "# np.concatenate()\n",
        "# Description: Concatenates two arrays.\n",
        "# Example:\n",
        "arr = np.concatenate(([1, 2], [3, 4]))\n",
        "print(arr)\n"
      ]
    },
    {
      "cell_type": "code",
      "execution_count": null,
      "id": "e3f54ffd",
      "metadata": {
        "colab": {
          "base_uri": "https://localhost:8080/"
        },
        "id": "e3f54ffd",
        "outputId": "7d9d3554-ad77-411b-fd64-332fea5c049d"
      },
      "outputs": [
        {
          "output_type": "stream",
          "name": "stdout",
          "text": [
            "[[1 2 3 4]\n",
            " [3 4 5 5]\n",
            " [1 2 3 5]]\n",
            "Shape of array a is  (3, 4)\n",
            "[[1 2 3 4]\n",
            " [3 4 5 5]\n",
            " [1 2 3 6]]\n",
            "Shape of array b is  (3, 4)\n",
            "[[1 2 3 4]\n",
            " [3 4 5 5]\n",
            " [1 2 3 5]\n",
            " [1 2 3 4]\n",
            " [3 4 5 5]\n",
            " [1 2 3 6]]\n",
            "Shape of arry after vstack is  (6, 4)\n"
          ]
        }
      ],
      "source": [
        "# np.vstack()\n",
        "# Description: Stacks arrays vertically.\n",
        "\n",
        "# Example:\n",
        "import numpy as np\n",
        "a = np.array([(1,2,3,4),(3,4,5,5),(1,2,3,5)])\n",
        "b = np.array([(1,2,3,4),(3,4,5,5),(1,2,3,6)])\n",
        "\n",
        "\n",
        "# arr = np.vstack(([1, 2], [3, 4]))\n",
        "# print(arr)\n",
        "\n",
        "print(a)\n",
        "print(\"Shape of array a is \", np.shape(a))\n",
        "print(b)\n",
        "print (\"Shape of array b is \",np.shape(b))\n",
        "print(np.vstack((a,b)))\n",
        "print(\"Shape of arry after vstack is \", np.vstack((a,b)).shape)\n",
        "\n"
      ]
    },
    {
      "cell_type": "code",
      "execution_count": null,
      "id": "7d91d062",
      "metadata": {
        "colab": {
          "base_uri": "https://localhost:8080/"
        },
        "id": "7d91d062",
        "outputId": "6f7350bc-30f0-4045-946a-33202fe7461a"
      },
      "outputs": [
        {
          "output_type": "stream",
          "name": "stdout",
          "text": [
            "[[1 2 3 4]\n",
            " [3 4 5 5]\n",
            " [1 2 3 5]]\n",
            "[[1 2 3 4]\n",
            " [3 4 5 5]\n",
            " [1 2 3 6]]\n",
            "(3, 4)\n",
            "(3, 4)\n",
            "(3, 8)\n",
            "[[1 2 3 4 1 2 3 4]\n",
            " [3 4 5 5 3 4 5 5]\n",
            " [1 2 3 5 1 2 3 6]]\n"
          ]
        }
      ],
      "source": [
        "\n",
        "\n",
        "# np.hstack()\n",
        "# Description: Stacks arrays horizontally.\n",
        "# Example:\n",
        "# arr = np.hstack(([1, 2], [3, 4]))\n",
        "# print(arr)\n",
        "\n",
        "\n",
        "print(a)\n",
        "print(b)\n",
        "print (np.shape(a))\n",
        "print (np.shape(b)) #jfhgjfhg\n",
        "print(np.hstack((a,b)).shape)\n",
        "print(np.hstack((a,b)))"
      ]
    },
    {
      "cell_type": "code",
      "source": [
        "import numpy as np\n",
        "\n",
        "# Original array\n",
        "data = np.array([1, 2, 3, 4, 5])  # Example with 5 elements\n",
        "\n",
        "# Desired shape (e.g., 2x3, which requires 6 elements)\n",
        "target_shape = (4, 4)\n",
        "\n",
        "# Use np.resize to fit the target shape\n",
        "reshaped_array = np.resize(data, target_shape)\n",
        "\n",
        "print(\"Reshaped Array:\")\n",
        "print(reshaped_array)\n"
      ],
      "metadata": {
        "colab": {
          "base_uri": "https://localhost:8080/"
        },
        "id": "wUhkp8Ys9ANr",
        "outputId": "769d83bc-e32c-45a6-c62d-4c6847eb38fe"
      },
      "id": "wUhkp8Ys9ANr",
      "execution_count": null,
      "outputs": [
        {
          "output_type": "stream",
          "name": "stdout",
          "text": [
            "Reshaped Array:\n",
            "[[1 2 3 4]\n",
            " [5 1 2 3]\n",
            " [4 5 1 2]\n",
            " [3 4 5 1]]\n"
          ]
        }
      ]
    },
    {
      "cell_type": "code",
      "execution_count": null,
      "id": "7faeacec",
      "metadata": {
        "colab": {
          "base_uri": "https://localhost:8080/"
        },
        "id": "7faeacec",
        "outputId": "3c6f0377-17df-4d44-d265-0ee1c887c14d"
      },
      "outputs": [
        {
          "output_type": "stream",
          "name": "stdout",
          "text": [
            "[array([1, 2]), array([3, 4])]\n"
          ]
        }
      ],
      "source": [
        "# np.split()\n",
        "# Description: Splits an array into multiple sub-arrays.\n",
        "# Example:\n",
        "arr = np.split(np.array([1, 2, 3, 4]), 2)\n",
        "print(arr)\n"
      ]
    },
    {
      "cell_type": "code",
      "execution_count": null,
      "id": "248d9b7c",
      "metadata": {
        "colab": {
          "base_uri": "https://localhost:8080/"
        },
        "id": "248d9b7c",
        "outputId": "77390cd3-dd9a-4ada-ffd0-0693b1a149e8"
      },
      "outputs": [
        {
          "output_type": "stream",
          "name": "stdout",
          "text": [
            "[array([[1],\n",
            "       [3]]), array([[2],\n",
            "       [4]])]\n"
          ]
        }
      ],
      "source": [
        "# np.hsplit()\n",
        "# Description: Splits an array into multiple sub-arrays horizontally.\n",
        "# Example:\n",
        "arr = np.hsplit(np.array([[1, 2], [3, 4]]), 2)\n",
        "print(arr)\n"
      ]
    },
    {
      "cell_type": "code",
      "source": [
        "print(np.array([[1, 2], [3, 4]]))"
      ],
      "metadata": {
        "colab": {
          "base_uri": "https://localhost:8080/"
        },
        "id": "CHm9y0qt7i_0",
        "outputId": "4bda784d-aaa5-449d-8c16-793d0cb3b3bf"
      },
      "id": "CHm9y0qt7i_0",
      "execution_count": null,
      "outputs": [
        {
          "output_type": "stream",
          "name": "stdout",
          "text": [
            "[[1 2]\n",
            " [3 4]]\n"
          ]
        }
      ]
    },
    {
      "cell_type": "code",
      "execution_count": null,
      "id": "a47069d7",
      "metadata": {
        "colab": {
          "base_uri": "https://localhost:8080/"
        },
        "id": "a47069d7",
        "outputId": "b95f26fa-b11c-4ce9-8c79-401ded2364ba"
      },
      "outputs": [
        {
          "output_type": "stream",
          "name": "stdout",
          "text": [
            "[array([[1, 2]]), array([[3, 4]])]\n"
          ]
        }
      ],
      "source": [
        "# np.vsplit()\n",
        "# Description: Splits an array into multiple sub-arrays vertically.\n",
        "# Example:\n",
        "arr = np.vsplit(np.array([[1, 2], [3, 4]]), 2)\n",
        "print(arr)\n",
        "\n"
      ]
    },
    {
      "cell_type": "code",
      "execution_count": null,
      "id": "15704656",
      "metadata": {
        "colab": {
          "base_uri": "https://localhost:8080/"
        },
        "id": "15704656",
        "outputId": "e069b7f4-4b14-490d-fb14-63512e2ba149"
      },
      "outputs": [
        {
          "output_type": "stream",
          "name": "stdout",
          "text": [
            "[1 2 3]\n"
          ]
        }
      ],
      "source": [
        "# np.sort()\n",
        "# Description: Sorts an array.\n",
        "# Example:\n",
        "arr = np.sort(np.array([3, 1, 2]))\n",
        "print(arr)\n"
      ]
    },
    {
      "cell_type": "code",
      "execution_count": null,
      "id": "a3945fc5",
      "metadata": {
        "colab": {
          "base_uri": "https://localhost:8080/"
        },
        "id": "a3945fc5",
        "outputId": "f936c5b5-a3d5-4321-908b-6f2bb1f451d5"
      },
      "outputs": [
        {
          "output_type": "stream",
          "name": "stdout",
          "text": [
            "[1 2 0]\n"
          ]
        }
      ],
      "source": [
        "# np.argsort()\n",
        "# Description: Returns the indices that would sort an array.\n",
        "# Example:\n",
        "arr = np.argsort(np.array([3, 1, 2]))\n",
        "#                          0  1  2\n",
        "print(arr)\n"
      ]
    },
    {
      "cell_type": "code",
      "execution_count": null,
      "id": "d4676be4",
      "metadata": {
        "colab": {
          "base_uri": "https://localhost:8080/"
        },
        "id": "d4676be4",
        "outputId": "f6671ed9-da51-4348-9ef4-37545d42b76d"
      },
      "outputs": [
        {
          "output_type": "stream",
          "name": "stdout",
          "text": [
            "2\n"
          ]
        }
      ],
      "source": [
        "# np.argmax()\n",
        "# Description: Returns the index of the maximum value.\n",
        "# Example:\n",
        "arr = np.argmax(np.array([1, 2, 3]))\n",
        "print(arr)\n"
      ]
    },
    {
      "cell_type": "code",
      "execution_count": null,
      "id": "d6c50274",
      "metadata": {
        "colab": {
          "base_uri": "https://localhost:8080/"
        },
        "id": "d6c50274",
        "outputId": "897dccb8-33aa-4c63-b6d1-103fd1439ef8"
      },
      "outputs": [
        {
          "output_type": "stream",
          "name": "stdout",
          "text": [
            "0\n"
          ]
        }
      ],
      "source": [
        "# np.argmin()\n",
        "# Description: Returns the index of the minimum value.\n",
        "# Example:\n",
        "arr = np.argmin(np.array([1, 2, 3]))\n",
        "print(arr)\n"
      ]
    },
    {
      "cell_type": "code",
      "execution_count": null,
      "id": "5422e77b",
      "metadata": {
        "colab": {
          "base_uri": "https://localhost:8080/"
        },
        "id": "5422e77b",
        "outputId": "47139b5d-2955-470a-c0db-37cc18dfdc71"
      },
      "outputs": [
        {
          "output_type": "stream",
          "name": "stdout",
          "text": [
            "2.0\n"
          ]
        }
      ],
      "source": [
        "# np.mean()\n",
        "# Description: Calculates the mean of an array.\n",
        "# Example:\n",
        "arr = np.mean(np.array([1, 2, 3]))\n",
        "print(arr)\n"
      ]
    },
    {
      "cell_type": "code",
      "execution_count": null,
      "id": "7227df54",
      "metadata": {
        "colab": {
          "base_uri": "https://localhost:8080/"
        },
        "id": "7227df54",
        "outputId": "ae1579a4-c6b9-47bd-9405-21a4e607b595"
      },
      "outputs": [
        {
          "output_type": "stream",
          "name": "stdout",
          "text": [
            "2.0\n"
          ]
        }
      ],
      "source": [
        "# np.median()\n",
        "# Description: Calculates the median of an array.\n",
        "# Example:\n",
        "arr = np.median(np.array([1, 2, 3]))\n",
        "print(arr)\n"
      ]
    },
    {
      "cell_type": "code",
      "execution_count": null,
      "id": "60a705b7",
      "metadata": {
        "colab": {
          "base_uri": "https://localhost:8080/"
        },
        "id": "60a705b7",
        "outputId": "e703fc68-2adf-4774-a889-48e86b2ecf0d"
      },
      "outputs": [
        {
          "output_type": "stream",
          "name": "stdout",
          "text": [
            "0.816496580927726\n"
          ]
        }
      ],
      "source": [
        "# np.std()\n",
        "# Description: Calculates the standard deviation of an array.\n",
        "# Example:\n",
        "arr = np.std(np.array([1, 2, 3]))\n",
        "print(arr)\n"
      ]
    },
    {
      "cell_type": "code",
      "source": [
        "# prompt: can you explain me why is the result of \"np.std(np.array([1, 2, 3]))\" is 0.816496580927726\n",
        "\n",
        "import numpy as np\n",
        "\n",
        "# Calculate the standard deviation of the array [1, 2, 3]\n",
        "std_dev = np.std(np.array([1, 2, 3]))\n",
        "print(std_dev)\n",
        "\n",
        "# Calculate the mean of the array\n",
        "mean = np.mean(np.array([1, 2, 3]))\n",
        "print(mean)\n",
        "\n",
        "# Calculate the sum of squared differences from the mean\n",
        "sum_sq_diff = np.sum((np.array([1, 2, 3]) - mean)**2)\n",
        "print(sum_sq_diff)\n",
        "\n",
        "# Calculate the variance\n",
        "variance = sum_sq_diff / len(np.array([1, 2, 3]))\n",
        "print(variance)\n",
        "\n",
        "# Calculate the standard deviation\n",
        "std_dev_manual = np.sqrt(variance)\n",
        "print(std_dev_manual)\n"
      ],
      "metadata": {
        "colab": {
          "base_uri": "https://localhost:8080/"
        },
        "id": "RSGsVZAsKnD8",
        "outputId": "1ed9b90c-dcc8-49e6-e7a2-c81d8693f2f7"
      },
      "id": "RSGsVZAsKnD8",
      "execution_count": null,
      "outputs": [
        {
          "output_type": "stream",
          "name": "stdout",
          "text": [
            "0.816496580927726\n",
            "2.0\n",
            "2.0\n",
            "0.6666666666666666\n",
            "0.816496580927726\n"
          ]
        }
      ]
    },
    {
      "cell_type": "code",
      "source": [
        "help(np.std)"
      ],
      "metadata": {
        "colab": {
          "base_uri": "https://localhost:8080/"
        },
        "id": "KxjSHdtmKB7H",
        "outputId": "fc2f512a-6ee8-48d1-a723-ee6e459e184d"
      },
      "id": "KxjSHdtmKB7H",
      "execution_count": null,
      "outputs": [
        {
          "output_type": "stream",
          "name": "stdout",
          "text": [
            "Help on _ArrayFunctionDispatcher in module numpy:\n",
            "\n",
            "std(a, axis=None, dtype=None, out=None, ddof=0, keepdims=<no value>, *, where=<no value>)\n",
            "    Compute the standard deviation along the specified axis.\n",
            "    \n",
            "    Returns the standard deviation, a measure of the spread of a distribution,\n",
            "    of the array elements. The standard deviation is computed for the\n",
            "    flattened array by default, otherwise over the specified axis.\n",
            "    \n",
            "    Parameters\n",
            "    ----------\n",
            "    a : array_like\n",
            "        Calculate the standard deviation of these values.\n",
            "    axis : None or int or tuple of ints, optional\n",
            "        Axis or axes along which the standard deviation is computed. The\n",
            "        default is to compute the standard deviation of the flattened array.\n",
            "    \n",
            "        .. versionadded:: 1.7.0\n",
            "    \n",
            "        If this is a tuple of ints, a standard deviation is performed over\n",
            "        multiple axes, instead of a single axis or all the axes as before.\n",
            "    dtype : dtype, optional\n",
            "        Type to use in computing the standard deviation. For arrays of\n",
            "        integer type the default is float64, for arrays of float types it is\n",
            "        the same as the array type.\n",
            "    out : ndarray, optional\n",
            "        Alternative output array in which to place the result. It must have\n",
            "        the same shape as the expected output but the type (of the calculated\n",
            "        values) will be cast if necessary.\n",
            "    ddof : int, optional\n",
            "        Means Delta Degrees of Freedom.  The divisor used in calculations\n",
            "        is ``N - ddof``, where ``N`` represents the number of elements.\n",
            "        By default `ddof` is zero.\n",
            "    keepdims : bool, optional\n",
            "        If this is set to True, the axes which are reduced are left\n",
            "        in the result as dimensions with size one. With this option,\n",
            "        the result will broadcast correctly against the input array.\n",
            "    \n",
            "        If the default value is passed, then `keepdims` will not be\n",
            "        passed through to the `std` method of sub-classes of\n",
            "        `ndarray`, however any non-default value will be.  If the\n",
            "        sub-class' method does not implement `keepdims` any\n",
            "        exceptions will be raised.\n",
            "    \n",
            "    where : array_like of bool, optional\n",
            "        Elements to include in the standard deviation.\n",
            "        See `~numpy.ufunc.reduce` for details.\n",
            "    \n",
            "        .. versionadded:: 1.20.0\n",
            "    \n",
            "    Returns\n",
            "    -------\n",
            "    standard_deviation : ndarray, see dtype parameter above.\n",
            "        If `out` is None, return a new array containing the standard deviation,\n",
            "        otherwise return a reference to the output array.\n",
            "    \n",
            "    See Also\n",
            "    --------\n",
            "    var, mean, nanmean, nanstd, nanvar\n",
            "    :ref:`ufuncs-output-type`\n",
            "    \n",
            "    Notes\n",
            "    -----\n",
            "    The standard deviation is the square root of the average of the squared\n",
            "    deviations from the mean, i.e., ``std = sqrt(mean(x))``, where\n",
            "    ``x = abs(a - a.mean())**2``.\n",
            "    \n",
            "    The average squared deviation is typically calculated as ``x.sum() / N``,\n",
            "    where ``N = len(x)``. If, however, `ddof` is specified, the divisor\n",
            "    ``N - ddof`` is used instead. In standard statistical practice, ``ddof=1``\n",
            "    provides an unbiased estimator of the variance of the infinite population.\n",
            "    ``ddof=0`` provides a maximum likelihood estimate of the variance for\n",
            "    normally distributed variables. The standard deviation computed in this\n",
            "    function is the square root of the estimated variance, so even with\n",
            "    ``ddof=1``, it will not be an unbiased estimate of the standard deviation\n",
            "    per se.\n",
            "    \n",
            "    Note that, for complex numbers, `std` takes the absolute\n",
            "    value before squaring, so that the result is always real and nonnegative.\n",
            "    \n",
            "    For floating-point input, the *std* is computed using the same\n",
            "    precision the input has. Depending on the input data, this can cause\n",
            "    the results to be inaccurate, especially for float32 (see example below).\n",
            "    Specifying a higher-accuracy accumulator using the `dtype` keyword can\n",
            "    alleviate this issue.\n",
            "    \n",
            "    Examples\n",
            "    --------\n",
            "    >>> a = np.array([[1, 2], [3, 4]])\n",
            "    >>> np.std(a)\n",
            "    1.1180339887498949 # may vary\n",
            "    >>> np.std(a, axis=0)\n",
            "    array([1.,  1.])\n",
            "    >>> np.std(a, axis=1)\n",
            "    array([0.5,  0.5])\n",
            "    \n",
            "    In single precision, std() can be inaccurate:\n",
            "    \n",
            "    >>> a = np.zeros((2, 512*512), dtype=np.float32)\n",
            "    >>> a[0, :] = 1.0\n",
            "    >>> a[1, :] = 0.1\n",
            "    >>> np.std(a)\n",
            "    0.45000005\n",
            "    \n",
            "    Computing the standard deviation in float64 is more accurate:\n",
            "    \n",
            "    >>> np.std(a, dtype=np.float64)\n",
            "    0.44999999925494177 # may vary\n",
            "    \n",
            "    Specifying a where argument:\n",
            "    \n",
            "    >>> a = np.array([[14, 8, 11, 10], [7, 9, 10, 11], [10, 15, 5, 10]])\n",
            "    >>> np.std(a)\n",
            "    2.614064523559687 # may vary\n",
            "    >>> np.std(a, where=[[True], [True], [False]])\n",
            "    2.0\n",
            "\n"
          ]
        }
      ]
    },
    {
      "cell_type": "code",
      "source": [],
      "metadata": {
        "id": "A5By1yUCKDjK"
      },
      "id": "A5By1yUCKDjK",
      "execution_count": null,
      "outputs": []
    }
  ],
  "metadata": {
    "colab": {
      "provenance": []
    },
    "language_info": {
      "name": "python"
    },
    "kernelspec": {
      "name": "python3",
      "display_name": "Python 3"
    }
  },
  "nbformat": 4,
  "nbformat_minor": 5
}